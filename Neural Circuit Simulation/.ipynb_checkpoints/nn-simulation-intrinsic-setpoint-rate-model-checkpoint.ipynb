{
 "cells": [
  {
   "cell_type": "markdown",
   "metadata": {},
   "source": [
    "# Antennal neural network with intrinsic set-point (simulation)\n",
    "\n",
    "Here, we will simulate the antennal neural network based on both the anatomy and the control theoretic models. We will begin by simulating the network with an intrinsic set-point that arises due to the network connectivity. Later on (in another notebook) we will simulate it with varying levels of set-point inputs."
   ]
  },
  {
   "cell_type": "code",
   "execution_count": 1,
   "metadata": {},
   "outputs": [
    {
     "name": "stdout",
     "output_type": "stream",
     "text": [
      "Populating the interactive namespace from numpy and matplotlib\n"
     ]
    }
   ],
   "source": [
    "# Import necessary libraries\n",
    "import nest\n",
    "import numpy as np\n",
    "from copy import deepcopy\n",
    "from pprint import pprint\n",
    "from collections import defaultdict\n",
    "from pprint import pprint\n",
    "#%matplotlib inline\n",
    "%pylab inline"
   ]
  },
  {
   "cell_type": "markdown",
   "metadata": {},
   "source": [
    "## Bristle field neural network\n",
    "\n",
    "A class that defines the underlying connectivity of a single bristle field. Sensory neurons underlying the bristle field are either active or inactive, defined by the cuticle position. These neurons feed onto the antennal motor neurons (along with interneurons carrying set-point), which are simply integrate and fire neurons (iaf_psc_alpha). The motor neurons control muscle firing, which in turn is a low pass (exponential moving average) filter with a time constant of mTau. The muscle firing in turn indirectly controls cuticle position, based on other antennal muscle activity."
   ]
  },
  {
   "cell_type": "code",
   "execution_count": 2,
   "metadata": {},
   "outputs": [],
   "source": [
    "class bbnn():\n",
    "    '''The bbnn class defines the Bohm's bristle neural network. \n",
    "    It initializes sensory and motor neurons, and changes its rate \n",
    "    based on bristle activation. It saves all the data in a dict'''\n",
    "\n",
    "    def __init__(self, sim_t, Bnum, delay, r_act, \n",
    "                 r_inact, r_in, weight, in_weight, \n",
    "                 mTau, CutPos):\n",
    "        '''\n",
    "        sim_t - Simulation step (default = 1 ms); \n",
    "        Bnum - Bristle number per field (default = 100 bristles); \n",
    "        delay - Synaptic delay in transmission (default = 1 ms);\n",
    "        r_act - Activated sensory neuron firing rate (default = 50.0);\n",
    "        r_inact - Inactivated sensory neuron firing rate (default = 10.0);\n",
    "        r_in - Interneuron firing rate;\n",
    "        weight - synaptic weight between sensory and motor neurons;\n",
    "        in_weight - synaptic weight between interneuron and motor neurons;\n",
    "        mTau - integration time of the muscle;\n",
    "        CutPos - starting cuticle (/antenna) position;\n",
    "        '''\n",
    "        # Save constants\n",
    "        self.sim_t = sim_t\n",
    "        self.Bnum = Bnum\n",
    "        self.weight = weight\n",
    "        self.delay = delay\n",
    "        self.in_weight = in_weight\n",
    "        self.mTau = mTau\n",
    "        \n",
    "        # Initialize network\n",
    "        self.initNetwork(CutPos, r_act, r_inact, r_in)\n",
    "        \n",
    "\n",
    "    def initNetwork(self, CutPos, r_act, r_inact, r_in):\n",
    "        '''Set up the network in NEST\n",
    "        CutPos - starting cuticle (/antenna) position;\n",
    "        r_act - firing rate of activated bristles;\n",
    "        r_inact - firing rate of inactivated bristles\n",
    "        r_in - firing rate of set-point interneuron'''\n",
    "        # Save act, inact rates\n",
    "        self.r_act = r_act\n",
    "        self.r_inact = r_inact\n",
    "        self.r_in = r_in\n",
    "\n",
    "        # Obtain bristle activity rate\n",
    "        sn_rate = self.getFieldRate(CutPos, r_act, r_inact)\n",
    "\n",
    "        # Declare Nodes\n",
    "        ## Initialize poisson generators\n",
    "        self.sn_pgs = nest.Create(\"poisson_generator\", self.Bnum, sn_rate)\n",
    "        self.jo = nest.Create(\"poisson_generator\", 1,\n",
    "                              {\"rate\": float(self.r_in)})\n",
    "        ## Initialize neurons\n",
    "        self.sn = nest.Create(\"parrot_neuron\", self.Bnum)  # sensory neuron\n",
    "        self.mn = nest.Create(\"iaf_psc_alpha\")  # motor neuron\n",
    "        self.ms_in = nest.Create(\"parrot_neuron\", 1)  # interneuron\n",
    "        ## Intialize spike detector\n",
    "        self.sn_sd = nest.Create(\"spike_detector\", 1)\n",
    "        self.in_sd = nest.Create(\"spike_detector\", 1)\n",
    "        self.mn_sd = nest.Create(\"spike_detector\", 1)\n",
    "\n",
    "        # Setup Connections\n",
    "        ## Poisson generators to parrot neurons\n",
    "        nest.Connect(self.sn_pgs, self.sn, 'one_to_one')\n",
    "        nest.Connect(self.jo, self.ms_in, 'one_to_one')\n",
    "        ## Sensory to motor neurons\n",
    "        nest.Connect(self.sn, self.mn, 'all_to_all', {\n",
    "            \"model\": \"static_synapse\",\n",
    "            \"weight\": self.weight,\n",
    "            \"delay\": self.delay\n",
    "        })\n",
    "        nest.Connect(self.ms_in, self.mn, 'all_to_all', {\n",
    "            \"model\": \"static_synapse\",\n",
    "            \"weight\": self.in_weight * self.weight,\n",
    "            \"delay\": self.delay\n",
    "        })\n",
    "        ## Neurons to spike detectors\n",
    "        nest.Connect(self.sn, self.sn_sd)\n",
    "        nest.Connect(self.ms_in, self.in_sd)\n",
    "        nest.Connect(self.mn, self.mn_sd)\n",
    "\n",
    "        nest.PrintNetwork()  # Not working for some reason\n",
    "        # NEST network setup complete\n",
    "\n",
    "        # Muscle activity related datastructure\n",
    "        self.time = 0.0\n",
    "        self.curr_ind = 0\n",
    "        self.muscle_activity = []\n",
    "        self.muscle_activity.append((self.time, 0.0))\n",
    "\n",
    "        # Initialization complete\n",
    "\n",
    "    def getMuscleActivity(self):\n",
    "        ''' Obtain muscle firing rate based on the simulation time '''\n",
    "        self.time += self.sim_t\n",
    "        self.curr_ind += 1\n",
    "        muscle_rate = moving_avg_rate(\n",
    "            self.time,\n",
    "            nest.GetStatus(self.mn_sd)[0]['events']['times'], self.mTau)\n",
    "        self.muscle_activity.append((self.time, muscle_rate))\n",
    "        return muscle_rate\n",
    "\n",
    "    def changeRates(self, CutPos):\n",
    "        ''' Change the firing rate of the poisson generators \n",
    "        based on bristle activity (cuticle position)'''\n",
    "        # Get Rate\n",
    "        rate = self.getFieldRate(CutPos, self.r_act, self.r_inact)\n",
    "        # Set rate\n",
    "        nest.SetStatus(self.sn_pgs, rate)\n",
    "\n",
    "    def getFieldRate(self, CutPos, r_act, r_inact):\n",
    "        ''' Obtain activity rate of each of the sensory neurons underneath the bristles '''\n",
    "        Bfield_closed = np.concatenate(\n",
    "            (np.zeros(self.Bnum - CutPos),\n",
    "             np.ones(CutPos)))  # 1 to CutPos are active bristles\n",
    "        Bfield_open = np.concatenate(\n",
    "            (np.ones(self.Bnum - CutPos),\n",
    "             np.zeros(CutPos)))  # CutPos to end are inactive bristles\n",
    "        # Arbitary defintion of active and inactive. Simply change r_act, r_inact to inverse it\n",
    "        field = ((Bfield_open * r_inact) + (Bfield_closed * r_act))\n",
    "\n",
    "        return [{\"rate\": m} for m in field]\n",
    "\n",
    "def moving_avg_rate(t, spike_times, tau):\n",
    "    ''' Find rate at time t based on tau \n",
    "    assuming an moving average of spikes \n",
    "    with a window size of tau'''\n",
    "     \n",
    "    ind = len(spike_times) - 1\n",
    "    muscle_rate = 0\n",
    "    # Sum up spikes based on calcium decay\n",
    "    while ((ind >= 0) and (t - spike_times[ind] < tau)):\n",
    "        muscle_rate += 1000/tau\n",
    "        ind -= 1\n",
    "    \n",
    "    return muscle_rate"
   ]
  },
  {
   "cell_type": "markdown",
   "metadata": {},
   "source": [
    "## Antennal neural network\n",
    "\n",
    "A overarching class representing the antennal neural network. This class creates and connects bristle field neural network objects, two in this simulation, and updates cuticle/antennal position based on muscle activity of each of the bristle field neural network."
   ]
  },
  {
   "cell_type": "code",
   "execution_count": 3,
   "metadata": {},
   "outputs": [],
   "source": [
    "class ann():\n",
    "    '''Antennal neural network class.'''\n",
    "\n",
    "    def __init__(self, CutLoc, sim_t=10.0, Bnum=100, weight=50.0, \n",
    "                 delay=1.0, in_weight=1.0, mTau=50.0, mKp=50.0,\n",
    "                 r_act=50.0, r_inact=5.0, r_in=50.0):\n",
    "        '''Set defaults for the antennal neural network\n",
    "        and initialize the network.\n",
    "        \n",
    "        Inputs:\n",
    "            CutLoc - starting cuticle location'''\n",
    "\n",
    "        # Set defaults\n",
    "        self.sim_t = sim_t\n",
    "        self.Bnum = Bnum\n",
    "        self.weight = weight\n",
    "        self.delay = delay\n",
    "        self.in_weight = in_weight\n",
    "        # muscle properties\n",
    "        self.mTau = mTau\n",
    "        self.mKp = mKp\n",
    "        # neuron characteristics\n",
    "        self.r_act = r_act\n",
    "        self.r_inact = r_inact\n",
    "        self.r_in = r_in\n",
    "        # cuticle position\n",
    "        self.CutLoc = CutLoc\n",
    "        self.cuticle_position = []\n",
    "\n",
    "        # Initialize field 1\n",
    "        self.field1 = bbnn(self.sim_t, self.Bnum, self.delay, self.r_act,\n",
    "                           self.r_inact, self.r_in, self.weight,\n",
    "                           self.in_weight, self.mTau, self.CutLoc)\n",
    "\n",
    "        # Initialize field 2 (flipped activation and inactivation rates\n",
    "        self.field2 = bbnn(self.sim_t, self.Bnum, self.delay, self.r_inact,\n",
    "                           self.r_act, self.r_in, self.weight, self.in_weight,\n",
    "                           self.mTau, self.CutLoc)\n",
    "\n",
    "    def Simulate(self, simulation_time):\n",
    "        '''Simulate the neural network.'''\n",
    "        time = np.arange(0, simulation_time, self.sim_t)\n",
    "        CutLoc = self.CutLoc        \n",
    "\n",
    "        # Simulate till end of time (literally :P)\n",
    "        for t in time:\n",
    "            # Simulate all networks\n",
    "            nest.Simulate(self.sim_t)\n",
    "\n",
    "            # Obtain muscle activity\n",
    "            firing1 = self.field1.getMuscleActivity()\n",
    "            firing2 = self.field2.getMuscleActivity()\n",
    "\n",
    "            # Update position based on activity\n",
    "            CutShift = np.round((firing1 - firing2) / self.mKp)\n",
    "            CutLoc = int(CutLoc - CutShift)\n",
    "            if CutLoc < 0: CutLoc = 0\n",
    "            if CutLoc > self.Bnum: CutLoc = self.Bnum\n",
    "\n",
    "            # Change rates\n",
    "            self.field1.changeRates(CutLoc)\n",
    "            self.field2.changeRates(CutLoc)\n",
    "\n",
    "            # Append cuticle location\n",
    "            self.cuticle_position.append((t, CutLoc))\n",
    "\n",
    "            # Continue simulation\n",
    "        # Simulation done; Extract data\n",
    "        field1_activity = self.getBristleFieldActivity(self.field1)\n",
    "        field2_activity = self.getBristleFieldActivity(self.field2)\n",
    "\n",
    "        return field1_activity, field2_activity\n",
    "\n",
    "    def getBristleFieldActivity(self, field):\n",
    "        '''Extract relevant activity details from the field'''        \n",
    "        \n",
    "        # Extract sensory neuron spike trains\n",
    "        sn_spikes = defaultdict(list)\n",
    "        sn_spikes_raw = zip(\n",
    "            nest.GetStatus(field.sn_sd)[0]['events']['times'],\n",
    "            nest.GetStatus(field.sn_sd)[0]['events']['senders'])\n",
    "        for time, sender in sn_spikes_raw:\n",
    "            sn_spikes[sender].append(time)\n",
    "        \n",
    "        # Extract motor neuron spike trains\n",
    "        mn_spikes = defaultdict(list)\n",
    "        mn_spikes_raw = zip(\n",
    "            nest.GetStatus(field.mn_sd)[0]['events']['times'],\n",
    "            nest.GetStatus(field.mn_sd)[0]['events']['senders'])\n",
    "        for time, sender in mn_spikes_raw:\n",
    "            mn_spikes[sender].append(time)\n",
    "        \n",
    "        # Extract interneuron spike trains        \n",
    "        in_spikes = defaultdict(list)\n",
    "        in_spikes_raw = zip(\n",
    "            nest.GetStatus(field.in_sd)[0]['events']['times'],\n",
    "            nest.GetStatus(field.in_sd)[0]['events']['senders'])\n",
    "        for time, sender in in_spikes_raw:\n",
    "            in_spikes[sender].append(time)\n",
    "            \n",
    "        # Extract muscle activity\n",
    "        muscle_activity = field.muscle_activity\n",
    "        \n",
    "        return (sn_spikes, mn_spikes, in_spikes, muscle_activity)"
   ]
  },
  {
   "cell_type": "code",
   "execution_count": 4,
   "metadata": {},
   "outputs": [],
   "source": [
    "nest.ResetKernel()\n",
    "network_1 = ann(0, sim_t=10.0, weight=50, mKp=25)\n",
    "field1_activity, field2_activity = network_1.Simulate(500)\n",
    "\n",
    "sn_spikes1, mn_spikes1, in_spikes1, muscle_activity1 = field1_activity \n",
    "muscle_activity1 = zip(*muscle_activity1)\n",
    "\n",
    "sn_spikes2, mn_spikes2, in_spikes2, muscle_activity2 = field2_activity \n",
    "muscle_activity2 = zip(*muscle_activity2)\n",
    "\n",
    "cuticle_position = zip(*network_1.cuticle_position)"
   ]
  },
  {
   "cell_type": "code",
   "execution_count": 5,
   "metadata": {},
   "outputs": [
    {
     "data": {
      "text/plain": [
       "[<matplotlib.lines.Line2D at 0x7f848f580d50>]"
      ]
     },
     "execution_count": 5,
     "metadata": {},
     "output_type": "execute_result"
    },
    {
     "data": {
      "image/png": "[encoded data removed]",
      "text/plain": [
       "<matplotlib.figure.Figure at 0x7f848f824c90>"
      ]
     },
     "metadata": {},
     "output_type": "display_data"
    }
   ],
   "source": [
    "subplot(311)\n",
    "plot(cuticle_position[0], cuticle_position[1])\n",
    "subplot(312)\n",
    "plot(muscle_activity1[0], muscle_activity1[1])\n",
    "plot(muscle_activity2[0], muscle_activity2[1])\n",
    "subplot(313)\n",
    "plot(muscle_activity2[0], np.array(muscle_activity2[1]) - np.array(muscle_activity1[1]))"
   ]
  },
  {
   "cell_type": "code",
   "execution_count": 6,
   "metadata": {},
   "outputs": [],
   "source": [
    "nest.ResetKernel()\n",
    "network_1 = ann(0, sim_t=1.0, mKp=125)\n",
    "field1_activity, field2_activity = network_1.Simulate(500)\n",
    "\n",
    "sn_spikes1, mn_spikes1, in_spikes1, muscle_activity1 = field1_activity \n",
    "muscle_activity1 = zip(*muscle_activity1)\n",
    "\n",
    "sn_spikes2, mn_spikes2, in_spikes2, muscle_activity2 = field2_activity \n",
    "muscle_activity2 = zip(*muscle_activity2)\n",
    "\n",
    "cuticle_position = zip(*network_1.cuticle_position)"
   ]
  },
  {
   "cell_type": "code",
   "execution_count": 7,
   "metadata": {},
   "outputs": [
    {
     "data": {
      "text/plain": [
       "[<matplotlib.lines.Line2D at 0x7f848f73c910>]"
      ]
     },
     "execution_count": 7,
     "metadata": {},
     "output_type": "execute_result"
    },
    {
     "data": {
      "image/png": "[encoded data removed]",
      "text/plain": [
       "<matplotlib.figure.Figure at 0x7f848f852210>"
      ]
     },
     "metadata": {},
     "output_type": "display_data"
    }
   ],
   "source": [
    "subplot(311)\n",
    "plot(cuticle_position[0], cuticle_position[1])\n",
    "subplot(312)\n",
    "plot(muscle_activity1[0], muscle_activity1[1])\n",
    "plot(muscle_activity2[0], muscle_activity2[1])\n",
    "subplot(313)\n",
    "plot(muscle_activity2[0], np.array(muscle_activity2[1]) - np.array(muscle_activity1[1]))"
   ]
  },
  {
   "cell_type": "code",
   "execution_count": null,
   "metadata": {},
   "outputs": [],
   "source": []
  }
 ],
 "metadata": {
  "kernelspec": {
   "display_name": "Python 2",
   "language": "python",
   "name": "python2"
  },
  "language_info": {
   "codemirror_mode": {
    "name": "ipython",
    "version": 2
   },
   "file_extension": ".py",
   "mimetype": "text/x-python",
   "name": "python",
   "nbconvert_exporter": "python",
   "pygments_lexer": "ipython2",
   "version": "2.7.12"
  }
 },
 "nbformat": 4,
 "nbformat_minor": 2
}
